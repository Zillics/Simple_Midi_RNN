{
 "cells": [
  {
   "cell_type": "code",
   "execution_count": 6,
   "metadata": {},
   "outputs": [
    {
     "data": {
      "text/plain": [
       "array([ 0.,  0., 34.,  0.,  0.])"
      ]
     },
     "execution_count": 6,
     "metadata": {},
     "output_type": "execute_result"
    }
   ],
   "source": [
    "import numpy as np\n",
    "means = np.zeros(5)\n",
    "means[2] = 34\n",
    "means"
   ]
  },
  {
   "cell_type": "code",
   "execution_count": 9,
   "metadata": {
    "scrolled": true
   },
   "outputs": [
    {
     "data": {
      "text/plain": [
       "array([[79.   ,  1.19 ,  0.   ],\n",
       "       [79.   ,  1.19 ,  0.   ],\n",
       "       [81.   ,  0.14 ,  0.   ],\n",
       "       ...,\n",
       "       [57.   ,  0.125,  0.   ],\n",
       "       [55.   ,  3.86 ,  0.   ],\n",
       "       [ 0.   ,  0.   ,  0.   ]])"
      ]
     },
     "execution_count": 9,
     "metadata": {},
     "output_type": "execute_result"
    }
   ],
   "source": [
    "matrix[]"
   ]
  },
  {
   "cell_type": "code",
   "execution_count": 14,
   "metadata": {},
   "outputs": [
    {
     "data": {
      "text/plain": [
       "71.70227670753064"
      ]
     },
     "execution_count": 14,
     "metadata": {},
     "output_type": "execute_result"
    }
   ],
   "source": [
    "matrix[:,0].mean()"
   ]
  },
  {
   "cell_type": "code",
   "execution_count": 8,
   "metadata": {},
   "outputs": [],
   "source": [
    "source_file = 'source_midi/aria_melody.mid'\n",
    "midi_data = pretty_midi.PrettyMIDI(source_file)\n",
    "matrix = midiToMatrix(midi_data,200)"
   ]
  },
  {
   "cell_type": "code",
   "execution_count": 7,
   "metadata": {},
   "outputs": [],
   "source": [
    "import pretty_midi\n",
    "import numpy as np\n",
    "import pickle\n",
    "\n",
    "def n_instruments(filename):\n",
    "\tmidi_data = pretty_midi.PrettyMIDI(filename)\n",
    "\tinstruments_n = 0\n",
    "\tinstr = midi_data.instruments\n",
    "\tprint(len(instr))\n",
    "# Converts a pretty midi object into compact numpy matrix\n",
    "# returns matrix of format: [Pitch_i,Duration_i,Rest_before_i]\n",
    "def midiToMatrix(pretty_midi_obj,sample_frequency):\n",
    "\tinterval_s = 1/sample_frequency\n",
    "\tpiano_roll = pretty_midi_obj.get_piano_roll(fs=sample_frequency, times=None)\n",
    "\ttime_steps = piano_roll.shape[1]\n",
    "\tout_matrix = np.zeros((time_steps,3))\n",
    "\tt = 0\n",
    "\tn_notes = piano_roll.shape[0]\n",
    "\ti = 0 # counter for number of notes in out_matrix\n",
    "\trest = 0 # counter for rest before note\n",
    "\twhile(t < time_steps):\n",
    "\t\t#Search for highest note which is activated\n",
    "\t\trest = rest + 1\n",
    "\t\tk = n_notes - 1\n",
    "\t\twhile(k >= 0):\n",
    "\t\t\tif(piano_roll[k,t] != 0):\n",
    "\t\t\t\t# Storing the start position of the note\n",
    "\t\t\t\tt0 = t\n",
    "\t\t\t\t#Search for end of note\n",
    "\t\t\t\twhile(piano_roll[k,t] != 0):\n",
    "\t\t\t\t\t#NOTE ON\n",
    "\t\t\t\t\tt = t + 1\n",
    "\t\t\t\t\tif(t >= time_steps):\n",
    "\t\t\t\t\t\t#not_limit = False\n",
    "\t\t\t\t\t\tbreak\n",
    "\t\t\t\t# Insert note\n",
    "\t\t\t\tout_matrix[i,0] = int(k) #PITCH\n",
    "\t\t\t\tout_matrix[i,1] = (t - t0)*interval_s #DURATION\n",
    "\t\t\t\tout_matrix[i,2] = rest*interval_s #REST BEFORE NOTE\n",
    "\t\t\t\t#print(out_matrix[i,:])\n",
    "\t\t\t\ti = i + 1\n",
    "\t\t\t\tk = -1 # Jump out of second loop\n",
    "\t\t\tk = k - 1\n",
    "\t\t\trest = 0\n",
    "\t\tt = t + 1\n",
    "\tout_matrix.resize(i + 1,3)\n",
    "\treturn out_matrix\n",
    "\n",
    "# Converts matrix of format [Pitch_i,Duration_i,Rest_before_i] to midi file\n",
    "def matrixToMidi(matrix,dest_file):\n",
    "\t# Create a PrettyMIDI object\n",
    "\tmidi_obj = pretty_midi.PrettyMIDI()\n",
    "\t# Create an Instrument instance for a Piano instrument\n",
    "\tpiano_program = pretty_midi.instrument_name_to_program('Acoustic Grand Piano')\n",
    "\tpiano = pretty_midi.Instrument(program=piano_program)\n",
    "\tn_notes = matrix.shape[0]\n",
    "\tt = 0.0\n",
    "\tfor i in range(0,n_notes):\n",
    "\t\tp = int(matrix[i,0])\n",
    "\t\ts = matrix[i,2] + t # Start = rest before note + current time\n",
    "\t\te = s + matrix[i,1] # End = start + duration of note in seconds\n",
    "\t\tnote = pretty_midi.Note(velocity=100, pitch=p, start=s, end=e)\n",
    "\t\t#print(\"pitch: %d start: %f , end: %f\" % (p,s,e))\n",
    "\t\tpiano.notes.append(note)\n",
    "\t\tt = e\n",
    "\n",
    "\tmidi_obj.instruments.append(piano)\n",
    "\tmidi_obj.write(dest_file)\n",
    "\n",
    "# Takes list of matrices from one MIDI track (one per instrument/channel) as input, estimates which matrix is the melody, and returns index of that matrix\n",
    "def isMelody(matrix_list):\n",
    "\tn = len(matrix_list)\n",
    "\tmeans = np.zeros(n)\n",
    "\ti = 0\n",
    "\tfor matrix in matrix_list:\n",
    "\t\tmeans[i] = matrix[:,0].mean()\n",
    "\n",
    "def matricesToMidi(matrix_list, dest_f):\n",
    "\tidx = 0\n",
    "\tmelody_idx = isMelody(matrix_list)\n",
    "\tfor matrix in matrix_list:\n",
    "\t\tif(idx == melody_idx):\n",
    "\t\t\tdest_filename = dest_file + '_melody'  + '.mid'\n",
    "\t\telse:\n",
    "\t\t\tdest_filename = dest_file + str(idx) + '.mid'\n",
    "\t\tmatrixToMidi(matrix,dest_filename)\n",
    "\t\tidx = idx + 1\n",
    "\n",
    "# Creates multiple matrices (one per instrument/channel) of format [Pitch_i,Duration_i,Rest_before_i] based on one MIDI file\n",
    "def midiToMatrices(source_MIDI_file, sample_freq, dest_file):\n",
    "\tmidi_data = pretty_midi.PrettyMIDI(source_MIDI_file)\n",
    "\tinstr_list = midi_data.instruments\n",
    "\tmatrix_list = []\n",
    "\tfor instrument in instr_list:\n",
    "\t\tmatrix_list.append(midiToMatrix(instrument,sample_freq))\n",
    "\tmatricesToMidi(matrix_list,dest_file) # TEMPORARY, just for testing function\n",
    "\tmatricesToPickle(matrix_list)\n",
    "\n",
    "\n",
    "# Takes list of matrices\n",
    "def matricesToPickle(matrix_list, dest_file):\n",
    "\tmelody_idx = isMelody(matrix_list)\n"
   ]
  }
 ],
 "metadata": {
  "kernelspec": {
   "display_name": "py36",
   "language": "python",
   "name": "py36"
  },
  "language_info": {
   "codemirror_mode": {
    "name": "ipython",
    "version": 3
   },
   "file_extension": ".py",
   "mimetype": "text/x-python",
   "name": "python",
   "nbconvert_exporter": "python",
   "pygments_lexer": "ipython3",
   "version": "3.6.5"
  }
 },
 "nbformat": 4,
 "nbformat_minor": 2
}
